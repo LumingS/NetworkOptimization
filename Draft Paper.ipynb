{
 "cells": [
  {
   "cell_type": "markdown",
   "metadata": {},
   "source": [
    "# Real-time Control of Stormwater Systems using Network Optimization \n",
    "\n",
    "1. Introduction\n",
    "    - Problem Description\n",
    "    - Literature Review\n",
    "    - Contribution of the work\n",
    "2. Model\n",
    "3. Algorithm\n",
    "4. Numerical Studies \n",
    "5. Conclusion "
   ]
  },
  {
   "cell_type": "code",
   "execution_count": 1,
   "metadata": {},
   "outputs": [],
   "source": [
    "# Python boilerplate \n",
    "import numpy as np\n",
    "import scipy as spy\n",
    "import matplotlib.pyplot as plt\n",
    "%matplotlib notebook\n",
    "%config InlineBackend.print_figure_kwargs = {}\n",
    "import seaborn as sns\n",
    "sns.set_style(\"whitegrid\")\n",
    "# Optimization thingy \n",
    "from gurobipy import *"
   ]
  },
  {
   "cell_type": "markdown",
   "metadata": {},
   "source": [
    "## Introduction "
   ]
  },
  {
   "cell_type": "markdown",
   "metadata": {},
   "source": [
    "## Model\n",
    "Dyanmics of the stormwater systems are nonlinear and these dynamics have to be accounted for achiving finer control of the system. But for achiving certain objective, like minimizing flooding and minimizing CSO's we can just control the network to effectively move the mass of water in the network, which can be achived by sorta linearnizing the system. \n",
    "\n",
    "### Virtual Tank Models\n",
    "\n",
    "### Links:\n",
    "Flow of water in the links is highly non-linear. Usually, we have to solve kinematic wave equation to model the flow of water in the links. But for this problem we ignore this, to assume that flow in and flow out are perfect. i.e no losses and more similar to the network links we have been looking in the class. \n",
    "\n",
    "### Nodes:\n",
    "We assume that the Nodes are idealized cylinders. \n",
    "\n",
    "$$ V^t  = V^{t-1} + q_{in}^t - q_{out}^t $$\n",
    "\n",
    "But the amount water that can leave the system is constrained by the water level in the tank. \n",
    "\n",
    "$$ q_{out} \\leq \\sqrt{2 \\times g \\times water level} \\times C_D $$\n",
    "\n",
    "We linearize this constaraint by approximating the square root operation. "
   ]
  },
  {
   "cell_type": "code",
   "execution_count": 2,
   "metadata": {},
   "outputs": [],
   "source": [
    "# Generate the outflows \n",
    "volume  = np.linspace(0,1000,100)\n",
    "area    = 100\n",
    "height  = volume/area\n",
    "outflow = np.sqrt(2*9.81*height)\n",
    "\n",
    "# Get the first order polyfit \n",
    "coeffws = np.polyfit(height, outflow, 1)"
   ]
  },
  {
   "cell_type": "code",
   "execution_count": 3,
   "metadata": {},
   "outputs": [
    {
     "data": {
      "text/plain": [
       "<matplotlib.legend.Legend at 0x12252b748>"
      ]
     },
     "execution_count": 3,
     "metadata": {},
     "output_type": "execute_result"
    },
    {
     "data": {
      "image/png": "[encoded data removed]",
      "text/plain": [
       "<Figure size 432x288 with 1 Axes>"
      ]
     },
     "metadata": {
      "needs_background": "light"
     },
     "output_type": "display_data"
    }
   ],
   "source": [
    "plt.plot(height, outflow, label = \"True\")\n",
    "plt.plot(height, coeffws[0]*height + coeffws[1], label = \"Linearized\")\n",
    "plt.ylabel(\"Outflows\")\n",
    "plt.xlabel(\"Water Level\")\n",
    "plt.legend()"
   ]
  },
  {
   "cell_type": "markdown",
   "metadata": {},
   "source": [
    "Linearized version of the constraint:\n",
    "\n",
    "$$ q_{out} \\leq 1.13047751 \\times volume/area + 3.65949363 $$"
   ]
  },
  {
   "cell_type": "markdown",
   "metadata": {},
   "source": [
    "### Network Representation \n",
    "\n",
    "Network can be represented as a combination of multiple tanks (nodes) interconnected with links. "
   ]
  },
  {
   "cell_type": "markdown",
   "metadata": {},
   "source": [
    "### Control Problem \n",
    "\n",
    "Given a network with linear dynamics, how can we control to move water away from the network as fast as possible.\n",
    "\n",
    "This control problem can be done in two ways. A centralized controller observes the network and routes the water from it. In the decentralized controller, we distribute the control problem. That is we have a central problem which tells the local controllers how to act. "
   ]
  },
  {
   "cell_type": "markdown",
   "metadata": {},
   "source": [
    "#### Centralized Controller \n",
    "**Terminology**\n",
    "- $A$ links in the network\n",
    "- $V_i^t$ volume in the $i^{th}$ tank at $t^{th}$ time\n",
    "- $x_{ij}^t $ outflow from $i^{th}$ tank to $j^{th}$ at $t^{th}$ time\n",
    "- $q_i^t$ inflow into $i^{th}$ tank at $t^{th}$ time\n",
    "- $N$ is the number of tanks \n",
    "- $T$ time horizon for solving\n",
    "- $u_{ij}$ is the upper bound for flow in link. \n",
    "\n",
    "***Objective Function***\n",
    "\n",
    "If the objective is to minimize the utility in the tanks. \n",
    "$$ \\min \\sum^N_{i} \\sum^T_t V_i^t $$\n",
    "\n",
    "If the objective is to move water as fast as possible.\n",
    "$$ \\max \\sum^N_{i} \\sum^T_t x_{ij}^t $$\n",
    "***Constraints***\n",
    "\n",
    "_Mass Balance_:\n",
    "\n",
    "This constraint accounts for the mass balance in the tanks. This constraint accounts for the time of travel between tanks($\\delta_{ji}$). \n",
    "\n",
    "$$ V_i^t = V_i^{t-1} + q_i^{t-1} +  \\sum_{j} x_{ji}^{t-\\delta_{ji}} - \\sum_{j} x_{ij}^{t-1}\\ \\text{for}\\ \\forall t\\  \\text{and}\\ \\forall i$$\n",
    "\n",
    "_Flow thresholds_:\n",
    "$$ x_{ij}^t \\leq u_{ij}\\ \\text{for}\\ \\forall t\\  \\text{and}\\ \\forall ij \\in A$$\n",
    "\n",
    "_Outflow limitation_:\n",
    "\n",
    "Amount of water that can be released from the tank at any time $t$ is limited by the volume in the tank. Though this relation is non-linear (i.e. $\\sqrt{2*g*depth}$, we assume a linear relationship in this formulation.\n",
    "$$ x_{ij}^t \\leq f(V_{ij}^{t-1}) \\ \\text{for}\\ \\forall t\\  \\text{and}\\ \\forall ij \\in A$$\n"
   ]
  },
  {
   "cell_type": "markdown",
   "metadata": {},
   "source": [
    "## Algorithm\n",
    "\n",
    "This can be solved using gurobi"
   ]
  },
  {
   "cell_type": "markdown",
   "metadata": {},
   "source": [
    "## Numerical Studies"
   ]
  },
  {
   "cell_type": "markdown",
   "metadata": {},
   "source": [
    "## Conclusion"
   ]
  },
  {
   "cell_type": "code",
   "execution_count": 4,
   "metadata": {},
   "outputs": [
    {
     "data": {
      "text/plain": [
       "array([1.13047751, 3.65949363])"
      ]
     },
     "execution_count": 4,
     "metadata": {},
     "output_type": "execute_result"
    }
   ],
   "source": []
  },
  {
   "cell_type": "code",
   "execution_count": null,
   "metadata": {},
   "outputs": [],
   "source": []
  }
 ],
 "metadata": {
  "kernelspec": {
   "display_name": "Python 3",
   "language": "python",
   "name": "python3"
  },
  "language_info": {
   "codemirror_mode": {
    "name": "ipython",
    "version": 3
   },
   "file_extension": ".py",
   "mimetype": "text/x-python",
   "name": "python",
   "nbconvert_exporter": "python",
   "pygments_lexer": "ipython3",
   "version": "3.7.3"
  }
 },
 "nbformat": 4,
 "nbformat_minor": 2
}
