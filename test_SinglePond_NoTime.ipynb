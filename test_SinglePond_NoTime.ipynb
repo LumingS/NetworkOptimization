{
 "cells": [
  {
   "cell_type": "code",
   "execution_count": 1,
   "metadata": {},
   "outputs": [],
   "source": [
    "from gurobipy import *\n",
    "import numpy  as np\n",
    "import matplotlib.pyplot as plt\n",
    "import seaborn as sns\n",
    "sns.set_style(\"white\")"
   ]
  },
  {
   "cell_type": "markdown",
   "metadata": {},
   "source": [
    "## Problem 0:\n",
    "**This problem tests the performance of the optimization approach in controlling a single pond with no inflows**\n",
    "\n",
    "Assume a idealized pond, with rectangular profile. \n",
    "\n",
    "### Attributes \n",
    "1. Initial Volume = 1000\n",
    "2. Flow limit = 10\n",
    "3. $\\beta$ = 0.020\n",
    "4. Unit Cost per unit volume"
   ]
  },
  {
   "cell_type": "code",
   "execution_count": 2,
   "metadata": {},
   "outputs": [
    {
     "name": "stdout",
     "output_type": "stream",
     "text": [
      "Academic license - for non-commercial use only\n",
      "Optimize a model with 1 rows, 1 columns and 1 nonzeros\n",
      "Coefficient statistics:\n",
      "  Matrix range     [1e+00, 1e+00]\n",
      "  Objective range  [2e+01, 2e+01]\n",
      "  Bounds range     [1e+00, 1e+00]\n",
      "  RHS range        [5e-01, 5e-01]\n",
      "Presolve removed 1 rows and 1 columns\n",
      "Presolve time: 0.01s\n",
      "Presolve: All rows and columns removed\n",
      "Iteration    Objective       Primal Inf.    Dual Inf.      Time\n",
      "       0    9.9000000e+02   0.000000e+00   0.000000e+00      0s\n",
      "\n",
      "Solved in 0 iterations and 0.01 seconds\n",
      "Optimal objective  9.900000000e+02\n"
     ]
    }
   ],
   "source": [
    "# Create a model \n",
    "m = Model(\"singlepond\")\n",
    "\n",
    "# Create Variable\n",
    "x = m.addVar(lb=0, ub=1, vtype=GRB.CONTINUOUS, name=\"x\")\n",
    "\n",
    "# Set an objective function\n",
    "m.setObjective((1-0.020*x)*(1000)*1.0, GRB.MINIMIZE)\n",
    "\n",
    "# Add constraint \n",
    "m.addConstr(x <= 0.5, \"c0\")\n",
    "\n",
    "# Optimize \n",
    "m.optimize()"
   ]
  },
  {
   "cell_type": "code",
   "execution_count": 3,
   "metadata": {},
   "outputs": [
    {
     "name": "stdout",
     "output_type": "stream",
     "text": [
      "x 0.5\n",
      "Obj: 990.0\n"
     ]
    }
   ],
   "source": [
    "for v in m.getVars():\n",
    "    print(v.varName, v.x)\n",
    "\n",
    "print(\"Obj:\", m.objVal)"
   ]
  },
  {
   "cell_type": "markdown",
   "metadata": {},
   "source": [
    "There nothing great in what has happend here. It is just showing a decision made to release water based on upper threshold in the downstream channel. "
   ]
  },
  {
   "cell_type": "markdown",
   "metadata": {},
   "source": [
    "## Problem 1:\n",
    "**This problem tests the performance of the optimization approach in controlling a single pond with initial volume for a horizon**\n",
    "\n",
    "Assume a idealized pond, with rectangular profile. \n",
    "\n",
    "### Attributes \n",
    "1. Initial Volume = 1000\n",
    "2. Flow limit = 10\n",
    "3. Unit Cost per unit volume\n",
    "\n",
    "We are using a linear approximation of the square root as the constraint."
   ]
  },
  {
   "cell_type": "code",
   "execution_count": 4,
   "metadata": {},
   "outputs": [],
   "source": [
    "# Create a model \n",
    "m = Model(\"singlepond_horizon\")\n",
    "\n",
    "# Create intial volume \n",
    "InitVolume = 500\n",
    "\n",
    "# Create Variable\n",
    "horizon = [i for i in range(0,55)]\n",
    "outflow = m.addVars(horizon, lb=0, vtype=GRB.CONTINUOUS, name=\"valve\")\n",
    "volume = m.addVars(horizon, lb=0, ub=1000, vtype=GRB.CONTINUOUS, name=\"volume\")"
   ]
  },
  {
   "cell_type": "code",
   "execution_count": 5,
   "metadata": {},
   "outputs": [
    {
     "data": {
      "text/plain": [
       "{1: <gurobi.Constr *Awaiting Model Update*>,\n",
       " 2: <gurobi.Constr *Awaiting Model Update*>,\n",
       " 3: <gurobi.Constr *Awaiting Model Update*>,\n",
       " 4: <gurobi.Constr *Awaiting Model Update*>,\n",
       " 5: <gurobi.Constr *Awaiting Model Update*>,\n",
       " 6: <gurobi.Constr *Awaiting Model Update*>,\n",
       " 7: <gurobi.Constr *Awaiting Model Update*>,\n",
       " 8: <gurobi.Constr *Awaiting Model Update*>,\n",
       " 9: <gurobi.Constr *Awaiting Model Update*>,\n",
       " 10: <gurobi.Constr *Awaiting Model Update*>,\n",
       " 11: <gurobi.Constr *Awaiting Model Update*>,\n",
       " 12: <gurobi.Constr *Awaiting Model Update*>,\n",
       " 13: <gurobi.Constr *Awaiting Model Update*>,\n",
       " 14: <gurobi.Constr *Awaiting Model Update*>,\n",
       " 15: <gurobi.Constr *Awaiting Model Update*>,\n",
       " 16: <gurobi.Constr *Awaiting Model Update*>,\n",
       " 17: <gurobi.Constr *Awaiting Model Update*>,\n",
       " 18: <gurobi.Constr *Awaiting Model Update*>,\n",
       " 19: <gurobi.Constr *Awaiting Model Update*>,\n",
       " 20: <gurobi.Constr *Awaiting Model Update*>,\n",
       " 21: <gurobi.Constr *Awaiting Model Update*>,\n",
       " 22: <gurobi.Constr *Awaiting Model Update*>,\n",
       " 23: <gurobi.Constr *Awaiting Model Update*>,\n",
       " 24: <gurobi.Constr *Awaiting Model Update*>,\n",
       " 25: <gurobi.Constr *Awaiting Model Update*>,\n",
       " 26: <gurobi.Constr *Awaiting Model Update*>,\n",
       " 27: <gurobi.Constr *Awaiting Model Update*>,\n",
       " 28: <gurobi.Constr *Awaiting Model Update*>,\n",
       " 29: <gurobi.Constr *Awaiting Model Update*>,\n",
       " 30: <gurobi.Constr *Awaiting Model Update*>,\n",
       " 31: <gurobi.Constr *Awaiting Model Update*>,\n",
       " 32: <gurobi.Constr *Awaiting Model Update*>,\n",
       " 33: <gurobi.Constr *Awaiting Model Update*>,\n",
       " 34: <gurobi.Constr *Awaiting Model Update*>,\n",
       " 35: <gurobi.Constr *Awaiting Model Update*>,\n",
       " 36: <gurobi.Constr *Awaiting Model Update*>,\n",
       " 37: <gurobi.Constr *Awaiting Model Update*>,\n",
       " 38: <gurobi.Constr *Awaiting Model Update*>,\n",
       " 39: <gurobi.Constr *Awaiting Model Update*>,\n",
       " 40: <gurobi.Constr *Awaiting Model Update*>,\n",
       " 41: <gurobi.Constr *Awaiting Model Update*>,\n",
       " 42: <gurobi.Constr *Awaiting Model Update*>,\n",
       " 43: <gurobi.Constr *Awaiting Model Update*>,\n",
       " 44: <gurobi.Constr *Awaiting Model Update*>,\n",
       " 45: <gurobi.Constr *Awaiting Model Update*>,\n",
       " 46: <gurobi.Constr *Awaiting Model Update*>,\n",
       " 47: <gurobi.Constr *Awaiting Model Update*>,\n",
       " 48: <gurobi.Constr *Awaiting Model Update*>,\n",
       " 49: <gurobi.Constr *Awaiting Model Update*>,\n",
       " 50: <gurobi.Constr *Awaiting Model Update*>,\n",
       " 51: <gurobi.Constr *Awaiting Model Update*>,\n",
       " 52: <gurobi.Constr *Awaiting Model Update*>,\n",
       " 53: <gurobi.Constr *Awaiting Model Update*>,\n",
       " 54: <gurobi.Constr *Awaiting Model Update*>}"
      ]
     },
     "execution_count": 5,
     "metadata": {},
     "output_type": "execute_result"
    }
   ],
   "source": [
    "# Define the constrat for updating volume\n",
    "m.addConstr(volume[0] == InitVolume, \"InitialConditions\")\n",
    "m.addConstrs(volume[time]  == volume[time-1] - outflow[time] for time in horizon[1:])\n",
    "\n",
    "# Define the constraint for maintaning water under threshold \n",
    "m.addConstrs(outflow[time] <= 10 for time in horizon)\n",
    "\n",
    "# Define the constraint for maintaning water under threshold \n",
    "m.addConstrs(outflow[time] <= (volume[time-1]*6.14647148e-02 + 3.81)*0.447 for time in horizon[1:])"
   ]
  },
  {
   "cell_type": "code",
   "execution_count": 6,
   "metadata": {},
   "outputs": [],
   "source": [
    "m.setObjective(volume.sum(), GRB.MINIMIZE)"
   ]
  },
  {
   "cell_type": "code",
   "execution_count": 7,
   "metadata": {},
   "outputs": [
    {
     "name": "stdout",
     "output_type": "stream",
     "text": [
      "Optimize a model with 164 rows, 110 columns and 326 nonzeros\n",
      "Coefficient statistics:\n",
      "  Matrix range     [3e-02, 1e+00]\n",
      "  Objective range  [1e+00, 1e+00]\n",
      "  Bounds range     [1e+03, 1e+03]\n",
      "  RHS range        [2e+00, 5e+02]\n",
      "Presolve removed 126 rows and 52 columns\n",
      "Presolve time: 0.01s\n",
      "Presolved: 38 rows, 58 columns, 267 nonzeros\n",
      "\n",
      "Iteration    Objective       Primal Inf.    Dual Inf.      Time\n",
      "       0   -2.4150819e+03   1.278898e+02   0.000000e+00      0s\n",
      "      32    1.4136478e+04   0.000000e+00   0.000000e+00      0s\n",
      "\n",
      "Solved in 32 iterations and 0.03 seconds\n",
      "Optimal objective  1.413647833e+04\n"
     ]
    }
   ],
   "source": [
    "m.optimize()"
   ]
  },
  {
   "cell_type": "code",
   "execution_count": 8,
   "metadata": {},
   "outputs": [
    {
     "name": "stdout",
     "output_type": "stream",
     "text": [
      "Obj: 14136.478327395587\n"
     ]
    }
   ],
   "source": [
    "volume = []\n",
    "outflow = []\n",
    "for v in m.getVars():\n",
    "    if v.varName.split(\"[\")[0] == 'volume':\n",
    "        volume.append(v.x)\n",
    "    else:\n",
    "        outflow.append(v.x)\n",
    "\n",
    "print(\"Obj:\", m.objVal)"
   ]
  },
  {
   "cell_type": "code",
   "execution_count": 9,
   "metadata": {},
   "outputs": [
    {
     "data": {
      "text/plain": [
       "Text(0, 0.5, 'Volume')"
      ]
     },
     "execution_count": 9,
     "metadata": {},
     "output_type": "execute_result"
    },
    {
     "data": {
      "image/png": "[encoded data removed]",
      "text/plain": [
       "<Figure size 432x288 with 2 Axes>"
      ]
     },
     "metadata": {
      "needs_background": "light"
     },
     "output_type": "display_data"
    }
   ],
   "source": [
    "plt.subplot(1,2,1)\n",
    "plt.plot(outflow)\n",
    "plt.ylabel(\"Outflow\")\n",
    "\n",
    "plt.subplot(1,2,2)\n",
    "plt.plot(volume)\n",
    "plt.ylabel(\"Volume\")"
   ]
  },
  {
   "cell_type": "markdown",
   "metadata": {},
   "source": [
    "## Problem 2:\n",
    "**This problem tests the performance of the optimization approach in controlling a single pond with constant inflow for a horizon**\n",
    "\n",
    "Assume a idealized pond, with rectangular profile. \n",
    "\n",
    "### Attributes \n",
    "1. Initial Volume = 1000\n",
    "2. Flow limit = 10\n",
    "3. Unit Cost per unit volume\n",
    "\n",
    "We have the constant inflow into the ponds so there should be a eqilibrium."
   ]
  },
  {
   "cell_type": "code",
   "execution_count": 10,
   "metadata": {},
   "outputs": [
    {
     "data": {
      "text/plain": [
       "{1: <gurobi.Constr *Awaiting Model Update*>,\n",
       " 2: <gurobi.Constr *Awaiting Model Update*>,\n",
       " 3: <gurobi.Constr *Awaiting Model Update*>,\n",
       " 4: <gurobi.Constr *Awaiting Model Update*>,\n",
       " 5: <gurobi.Constr *Awaiting Model Update*>,\n",
       " 6: <gurobi.Constr *Awaiting Model Update*>,\n",
       " 7: <gurobi.Constr *Awaiting Model Update*>,\n",
       " 8: <gurobi.Constr *Awaiting Model Update*>,\n",
       " 9: <gurobi.Constr *Awaiting Model Update*>,\n",
       " 10: <gurobi.Constr *Awaiting Model Update*>,\n",
       " 11: <gurobi.Constr *Awaiting Model Update*>,\n",
       " 12: <gurobi.Constr *Awaiting Model Update*>,\n",
       " 13: <gurobi.Constr *Awaiting Model Update*>,\n",
       " 14: <gurobi.Constr *Awaiting Model Update*>,\n",
       " 15: <gurobi.Constr *Awaiting Model Update*>,\n",
       " 16: <gurobi.Constr *Awaiting Model Update*>,\n",
       " 17: <gurobi.Constr *Awaiting Model Update*>,\n",
       " 18: <gurobi.Constr *Awaiting Model Update*>,\n",
       " 19: <gurobi.Constr *Awaiting Model Update*>,\n",
       " 20: <gurobi.Constr *Awaiting Model Update*>,\n",
       " 21: <gurobi.Constr *Awaiting Model Update*>,\n",
       " 22: <gurobi.Constr *Awaiting Model Update*>,\n",
       " 23: <gurobi.Constr *Awaiting Model Update*>,\n",
       " 24: <gurobi.Constr *Awaiting Model Update*>,\n",
       " 25: <gurobi.Constr *Awaiting Model Update*>,\n",
       " 26: <gurobi.Constr *Awaiting Model Update*>,\n",
       " 27: <gurobi.Constr *Awaiting Model Update*>,\n",
       " 28: <gurobi.Constr *Awaiting Model Update*>,\n",
       " 29: <gurobi.Constr *Awaiting Model Update*>,\n",
       " 30: <gurobi.Constr *Awaiting Model Update*>,\n",
       " 31: <gurobi.Constr *Awaiting Model Update*>,\n",
       " 32: <gurobi.Constr *Awaiting Model Update*>,\n",
       " 33: <gurobi.Constr *Awaiting Model Update*>,\n",
       " 34: <gurobi.Constr *Awaiting Model Update*>,\n",
       " 35: <gurobi.Constr *Awaiting Model Update*>,\n",
       " 36: <gurobi.Constr *Awaiting Model Update*>,\n",
       " 37: <gurobi.Constr *Awaiting Model Update*>,\n",
       " 38: <gurobi.Constr *Awaiting Model Update*>,\n",
       " 39: <gurobi.Constr *Awaiting Model Update*>,\n",
       " 40: <gurobi.Constr *Awaiting Model Update*>,\n",
       " 41: <gurobi.Constr *Awaiting Model Update*>,\n",
       " 42: <gurobi.Constr *Awaiting Model Update*>,\n",
       " 43: <gurobi.Constr *Awaiting Model Update*>,\n",
       " 44: <gurobi.Constr *Awaiting Model Update*>,\n",
       " 45: <gurobi.Constr *Awaiting Model Update*>,\n",
       " 46: <gurobi.Constr *Awaiting Model Update*>,\n",
       " 47: <gurobi.Constr *Awaiting Model Update*>,\n",
       " 48: <gurobi.Constr *Awaiting Model Update*>,\n",
       " 49: <gurobi.Constr *Awaiting Model Update*>,\n",
       " 50: <gurobi.Constr *Awaiting Model Update*>,\n",
       " 51: <gurobi.Constr *Awaiting Model Update*>,\n",
       " 52: <gurobi.Constr *Awaiting Model Update*>,\n",
       " 53: <gurobi.Constr *Awaiting Model Update*>,\n",
       " 54: <gurobi.Constr *Awaiting Model Update*>}"
      ]
     },
     "execution_count": 10,
     "metadata": {},
     "output_type": "execute_result"
    }
   ],
   "source": [
    "# Create a model \n",
    "m = Model(\"sp_in\")\n",
    "\n",
    "# Create intial volume \n",
    "InitVolume = 500\n",
    "inflow = 20\n",
    "\n",
    "# Create Variable\n",
    "horizon = [i for i in range(0,55)]\n",
    "outflow = m.addVars(horizon, lb=0, vtype=GRB.CONTINUOUS, name=\"valve\")\n",
    "volume = m.addVars(horizon, lb=0, ub=1000, vtype=GRB.CONTINUOUS, name=\"volume\")\n",
    "\n",
    "# Define the constrat for updating volume\n",
    "m.addConstr(volume[0] == InitVolume, \"InitialConditions\")\n",
    "m.addConstrs(volume[time]  == 20 + volume[time-1] - outflow[time] for time in horizon[1:])\n",
    "\n",
    "# Define the constraint for maintaning water under threshold \n",
    "m.addConstrs(outflow[time] <= 10 for time in horizon)\n",
    "\n",
    "# Define the constraint for maintaning water under threshold \n",
    "m.addConstrs(outflow[time] <= (volume[time-1]*6.14647148e-02 + 3.81)*0.447 for time in horizon[1:])"
   ]
  },
  {
   "cell_type": "code",
   "execution_count": 11,
   "metadata": {},
   "outputs": [
    {
     "name": "stdout",
     "output_type": "stream",
     "text": [
      "Optimize a model with 164 rows, 110 columns and 326 nonzeros\n",
      "Coefficient statistics:\n",
      "  Matrix range     [3e-02, 1e+00]\n",
      "  Objective range  [1e+00, 1e+00]\n",
      "  Bounds range     [1e+03, 1e+03]\n",
      "  RHS range        [2e+00, 5e+02]\n",
      "Presolve removed 57 rows and 2 columns\n",
      "Presolve time: 0.01s\n",
      "\n",
      "Solved in 0 iterations and 0.01 seconds\n",
      "Infeasible model\n"
     ]
    }
   ],
   "source": [
    "m.setObjective(volume.sum(), GRB.MINIMIZE)\n",
    "m.optimize()"
   ]
  },
  {
   "cell_type": "code",
   "execution_count": 12,
   "metadata": {},
   "outputs": [
    {
     "ename": "AttributeError",
     "evalue": "b\"Unable to retrieve attribute 'x'\"",
     "output_type": "error",
     "traceback": [
      "\u001b[0;31m---------------------------------------------------------------------------\u001b[0m",
      "\u001b[0;31mAttributeError\u001b[0m                            Traceback (most recent call last)",
      "\u001b[0;32m<ipython-input-12-6cd6ca79a924>\u001b[0m in \u001b[0;36m<module>\u001b[0;34m\u001b[0m\n\u001b[1;32m      5\u001b[0m         \u001b[0mvolume\u001b[0m\u001b[0;34m.\u001b[0m\u001b[0mappend\u001b[0m\u001b[0;34m(\u001b[0m\u001b[0mv\u001b[0m\u001b[0;34m.\u001b[0m\u001b[0mx\u001b[0m\u001b[0;34m)\u001b[0m\u001b[0;34m\u001b[0m\u001b[0;34m\u001b[0m\u001b[0m\n\u001b[1;32m      6\u001b[0m     \u001b[0;32melse\u001b[0m\u001b[0;34m:\u001b[0m\u001b[0;34m\u001b[0m\u001b[0;34m\u001b[0m\u001b[0m\n\u001b[0;32m----> 7\u001b[0;31m         \u001b[0moutflow\u001b[0m\u001b[0;34m.\u001b[0m\u001b[0mappend\u001b[0m\u001b[0;34m(\u001b[0m\u001b[0mv\u001b[0m\u001b[0;34m.\u001b[0m\u001b[0mx\u001b[0m\u001b[0;34m)\u001b[0m\u001b[0;34m\u001b[0m\u001b[0;34m\u001b[0m\u001b[0m\n\u001b[0m\u001b[1;32m      8\u001b[0m \u001b[0;34m\u001b[0m\u001b[0m\n\u001b[1;32m      9\u001b[0m \u001b[0mprint\u001b[0m\u001b[0;34m(\u001b[0m\u001b[0;34m\"Obj:\"\u001b[0m\u001b[0;34m,\u001b[0m \u001b[0mm\u001b[0m\u001b[0;34m.\u001b[0m\u001b[0mobjVal\u001b[0m\u001b[0;34m)\u001b[0m\u001b[0;34m\u001b[0m\u001b[0;34m\u001b[0m\u001b[0m\n",
      "\u001b[0;32mvar.pxi\u001b[0m in \u001b[0;36mgurobipy.Var.__getattr__\u001b[0;34m()\u001b[0m\n",
      "\u001b[0;32mvar.pxi\u001b[0m in \u001b[0;36mgurobipy.Var.getAttr\u001b[0;34m()\u001b[0m\n",
      "\u001b[0;31mAttributeError\u001b[0m: b\"Unable to retrieve attribute 'x'\""
     ]
    }
   ],
   "source": [
    "volume = []\n",
    "outflow = []\n",
    "for v in m.getVars():\n",
    "    if v.varName.split(\"[\")[0] == 'volume':\n",
    "        volume.append(v.x)\n",
    "    else:\n",
    "        outflow.append(v.x)\n",
    "\n",
    "print(\"Obj:\", m.objVal)\n",
    "\n",
    "plt.subplot(1,2,1)\n",
    "plt.plot(outflow)\n",
    "plt.ylabel(\"Outflow\")\n",
    "\n",
    "plt.subplot(1,2,2)\n",
    "plt.plot(volume)\n",
    "plt.ylabel(\"Volume\")"
   ]
  },
  {
   "cell_type": "code",
   "execution_count": null,
   "metadata": {},
   "outputs": [],
   "source": []
  },
  {
   "cell_type": "code",
   "execution_count": null,
   "metadata": {},
   "outputs": [],
   "source": []
  }
 ],
 "metadata": {
  "kernelspec": {
   "display_name": "Python 3",
   "language": "python",
   "name": "python3"
  },
  "language_info": {
   "codemirror_mode": {
    "name": "ipython",
    "version": 3
   },
   "file_extension": ".py",
   "mimetype": "text/x-python",
   "name": "python",
   "nbconvert_exporter": "python",
   "pygments_lexer": "ipython3",
   "version": "3.7.3"
  }
 },
 "nbformat": 4,
 "nbformat_minor": 2
}
