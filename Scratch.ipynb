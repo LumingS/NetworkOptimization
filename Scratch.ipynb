{
 "cells": [
  {
   "cell_type": "code",
   "execution_count": 1,
   "metadata": {},
   "outputs": [],
   "source": [
    "from gurobipy import *\n",
    "import numpy as np"
   ]
  },
  {
   "cell_type": "code",
   "execution_count": 14,
   "metadata": {},
   "outputs": [],
   "source": [
    "horizon = [i for i in range(0,10)]"
   ]
  },
  {
   "cell_type": "code",
   "execution_count": 5,
   "metadata": {},
   "outputs": [
    {
     "name": "stdout",
     "output_type": "stream",
     "text": [
      "Academic license - for non-commercial use only\n"
     ]
    }
   ],
   "source": [
    "model = Model('test')"
   ]
  },
  {
   "cell_type": "code",
   "execution_count": 15,
   "metadata": {},
   "outputs": [],
   "source": [
    "r = model.addVars(horizon, ub=1.0, name=\"valve\")"
   ]
  },
  {
   "cell_type": "code",
   "execution_count": 17,
   "metadata": {},
   "outputs": [
    {
     "data": {
      "text/plain": [
       "{0: <gurobi.Var *Awaiting Model Update*>,\n",
       " 1: <gurobi.Var *Awaiting Model Update*>,\n",
       " 2: <gurobi.Var *Awaiting Model Update*>,\n",
       " 3: <gurobi.Var *Awaiting Model Update*>,\n",
       " 4: <gurobi.Var *Awaiting Model Update*>,\n",
       " 5: <gurobi.Var *Awaiting Model Update*>,\n",
       " 6: <gurobi.Var *Awaiting Model Update*>,\n",
       " 7: <gurobi.Var *Awaiting Model Update*>,\n",
       " 8: <gurobi.Var *Awaiting Model Update*>,\n",
       " 9: <gurobi.Var *Awaiting Model Update*>}"
      ]
     },
     "execution_count": 17,
     "metadata": {},
     "output_type": "execute_result"
    }
   ],
   "source": [
    "r"
   ]
  },
  {
   "cell_type": "code",
   "execution_count": 18,
   "metadata": {},
   "outputs": [],
   "source": [
    "years = tuplelist(range(2+1))\n",
    "skill_levels = [0, 1, 2]  # 0 = Unskilled, 1 = Semiskilled, 2 = Skilled\n",
    "Unskilled = 0\n",
    "Semiskilled = 1\n",
    "Skilled = 2\n",
    "\n",
    "CurrentStrength = [2000, 1500, 1000]\n",
    "Requirement = [[1000, 1400, 1000],\n",
    "               [500, 2000, 1500],\n",
    "               [0, 2500, 2000]]\n",
    "LeaveFirstYear = [0.25, 0.20, 0.10]\n",
    "LeaveEachYear = [0.10, 0.05, 0.05]\n",
    "ContinueFirstYear = [1 - a for a in LeaveFirstYear]\n",
    "ContinueEachYear = [1 - a for a in LeaveEachYear]\n",
    "LeaveDownGraded = 0.50\n",
    "ContinueDownGraded = 1 - LeaveDownGraded\n",
    "MaxRecruit = [500, 800, 500]\n",
    "MaxRetrainUnskilled = 200\n",
    "MaxOverManning = 150\n",
    "MaxShortTimeWorking = 50\n",
    "RetrainSemiSkilled = 0.25\n",
    "ShortTimeUsage = 0.50\n",
    "\n",
    "RetrainCost = [400, 500, 0]\n",
    "RedundantCost = [200, 500, 500]\n",
    "ShortTimeCost = [500, 400, 400]\n",
    "OverManningCost = [1500, 2000, 3000]"
   ]
  },
  {
   "cell_type": "code",
   "execution_count": 20,
   "metadata": {},
   "outputs": [],
   "source": [
    "MaxRecruit2 = {(level, year) : MaxRecruit[level] for level in skill_levels for year in years}\n",
    "model = Model('Manpower planning')\n",
    "\n",
    "Recruit = model.addVars(skill_levels, years, ub= MaxRecruit2, name=\"Recruit\")\n",
    "ShortTime = model.addVars(skill_levels, years, ub=MaxShortTimeWorking,\n",
    "                          name=\"ShortTime\")\n",
    "LaborForce = model.addVars(skill_levels, years, name=\"LaborForce\")\n",
    "Redundant = model.addVars(skill_levels, years, name=\"Redundant\")\n",
    "OverManned = model.addVars(skill_levels, years, name=\"OverManned\")\n",
    "Retrain = model.addVars(skill_levels, skill_levels, years, name=\"Retrain\")"
   ]
  },
  {
   "cell_type": "code",
   "execution_count": 37,
   "metadata": {},
   "outputs": [],
   "source": [
    "x = np.linspace(0, 500, 1000)\n",
    "y = np.sqrt(x)"
   ]
  },
  {
   "cell_type": "code",
   "execution_count": 38,
   "metadata": {},
   "outputs": [],
   "source": [
    "import matplotlib.pyplot as plt"
   ]
  },
  {
   "cell_type": "code",
   "execution_count": 39,
   "metadata": {},
   "outputs": [
    {
     "data": {
      "text/plain": [
       "[<matplotlib.lines.Line2D at 0x119a2c1d0>]"
      ]
     },
     "execution_count": 39,
     "metadata": {},
     "output_type": "execute_result"
    },
    {
     "data": {
      "image/png": "[encoded data removed]",
      "text/plain": [
       "<Figure size 432x288 with 1 Axes>"
      ]
     },
     "metadata": {
      "needs_background": "light"
     },
     "output_type": "display_data"
    }
   ],
   "source": [
    "plt.plot(x,y)"
   ]
  },
  {
   "cell_type": "code",
   "execution_count": 40,
   "metadata": {},
   "outputs": [],
   "source": [
    "p = np.polyfit(x,y,2)"
   ]
  },
  {
   "cell_type": "code",
   "execution_count": 41,
   "metadata": {},
   "outputs": [],
   "source": [
    "y1 = x**2 *p[0] + x*p[1] +p[2]"
   ]
  },
  {
   "cell_type": "code",
   "execution_count": 42,
   "metadata": {},
   "outputs": [
    {
     "data": {
      "text/plain": [
       "[<matplotlib.lines.Line2D at 0x11951a8d0>]"
      ]
     },
     "execution_count": 42,
     "metadata": {},
     "output_type": "execute_result"
    },
    {
     "data": {
      "image/png": "[encoded data removed]",
      "text/plain": [
       "<Figure size 432x288 with 1 Axes>"
      ]
     },
     "metadata": {
      "needs_background": "light"
     },
     "output_type": "display_data"
    }
   ],
   "source": [
    "plt.plot(x,y)\n",
    "plt.plot(x,y1)"
   ]
  },
  {
   "cell_type": "code",
   "execution_count": 43,
   "metadata": {},
   "outputs": [
    {
     "data": {
      "text/plain": [
       "array([-5.13182053e-05,  6.14647148e-02,  3.81572575e+00])"
      ]
     },
     "execution_count": 43,
     "metadata": {},
     "output_type": "execute_result"
    }
   ],
   "source": [
    "p"
   ]
  },
  {
   "cell_type": "code",
   "execution_count": null,
   "metadata": {},
   "outputs": [],
   "source": []
  }
 ],
 "metadata": {
  "kernelspec": {
   "display_name": "Python 3",
   "language": "python",
   "name": "python3"
  },
  "language_info": {
   "codemirror_mode": {
    "name": "ipython",
    "version": 3
   },
   "file_extension": ".py",
   "mimetype": "text/x-python",
   "name": "python",
   "nbconvert_exporter": "python",
   "pygments_lexer": "ipython3",
   "version": "3.7.3"
  }
 },
 "nbformat": 4,
 "nbformat_minor": 2
}
