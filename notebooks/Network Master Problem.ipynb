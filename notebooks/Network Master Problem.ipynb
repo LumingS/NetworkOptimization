{
 "cells": [
  {
   "cell_type": "code",
   "execution_count": 1,
   "metadata": {},
   "outputs": [],
   "source": [
    "from gurobipy import *\n",
    "import numpy  as np\n",
    "import re\n",
    "import matplotlib.pyplot as plt\n",
    "import seaborn as sns\n",
    "sns.set_style(\"white\")"
   ]
  },
  {
   "cell_type": "code",
   "execution_count": 12,
   "metadata": {},
   "outputs": [],
   "source": [
    "m = Model(\"MasterProblem\")\n",
    "\n",
    "# Create Variables \n",
    "horizon      = 20 # Time steps\n",
    "upper_bound  = 10 # Uppper threshold for water \n",
    "link_up = horizon*upper_bound\n",
    "\n",
    "upper_volume = 100 # Volume limits.\n",
    "\n",
    "basins  = [i for i in range(0, 3)]\n",
    "\n",
    "# Total inflow into nodes in that time \n",
    "inflows = [20, 10, 10]\n",
    "# Inital volume \n",
    "init_vol = [80, 90, 90]\n",
    "\n",
    "# Create Basin Volume\n",
    "volume_basins = m.addVars(basins,\n",
    "                          lb=0,\n",
    "                          ub=upper_volume,\n",
    "                          vtype=GRB.CONTINUOUS,\n",
    "                          name=\"Volume_Basin\")\n",
    "# Create Volume Exchange \n",
    "volume_links  = m.addVars(basins,\n",
    "                          lb=0,\n",
    "                          ub=link_up,\n",
    "                          vtype=GRB.CONTINUOUS,\n",
    "                          name=\"Volume_Link\")"
   ]
  },
  {
   "cell_type": "code",
   "execution_count": 13,
   "metadata": {},
   "outputs": [
    {
     "data": {
      "text/plain": [
       "<gurobi.Constr *Awaiting Model Update*>"
      ]
     },
     "execution_count": 13,
     "metadata": {},
     "output_type": "execute_result"
    }
   ],
   "source": [
    "# Constraints \n",
    "## 1. Link and basin upper bound constraint set in variable. \n",
    "## 2. Mass Balance constraint \n",
    "m.addConstr(volume_basins[0] == init_vol[0] + inflows[0] - volume_links[0], \"P0\")\n",
    "m.addConstr(volume_basins[1] == init_vol[1] + inflows[1] - volume_links[1], \"P1\")\n",
    "m.addConstr(volume_basins[2] == init_vol[2] + inflows[2] + volume_links[0] + volume_links[1] - volume_links[2], \"P1\")"
   ]
  },
  {
   "cell_type": "code",
   "execution_count": 14,
   "metadata": {},
   "outputs": [],
   "source": [
    "m.setObjective(volume_basins.sum(), GRB.MINIMIZE)"
   ]
  },
  {
   "cell_type": "code",
   "execution_count": 15,
   "metadata": {},
   "outputs": [
    {
     "name": "stdout",
     "output_type": "stream",
     "text": [
      "Optimize a model with 3 rows, 6 columns and 8 nonzeros\n",
      "Coefficient statistics:\n",
      "  Matrix range     [1e+00, 1e+00]\n",
      "  Objective range  [1e+00, 1e+00]\n",
      "  Bounds range     [1e+02, 2e+02]\n",
      "  RHS range        [1e+02, 1e+02]\n",
      "Presolve removed 3 rows and 6 columns\n",
      "Presolve time: 0.01s\n",
      "Presolve: All rows and columns removed\n",
      "Iteration    Objective       Primal Inf.    Dual Inf.      Time\n",
      "       0    1.0000000e+02   0.000000e+00   0.000000e+00      0s\n",
      "\n",
      "Solved in 0 iterations and 0.02 seconds\n",
      "Optimal objective  1.000000000e+02\n"
     ]
    }
   ],
   "source": [
    "m.optimize()"
   ]
  },
  {
   "cell_type": "code",
   "execution_count": 16,
   "metadata": {},
   "outputs": [
    {
     "name": "stdout",
     "output_type": "stream",
     "text": [
      "Volume_Basin[0] 0.0\n",
      "Volume_Basin[1] 0.0\n",
      "Volume_Basin[2] 100.0\n",
      "Volume_Link[0] 100.0\n",
      "Volume_Link[1] 100.0\n",
      "Volume_Link[2] 200.0\n"
     ]
    }
   ],
   "source": [
    "for v in m.getVars():\n",
    "    print(v.varName, v.x)"
   ]
  },
  {
   "cell_type": "code",
   "execution_count": null,
   "metadata": {},
   "outputs": [],
   "source": []
  },
  {
   "cell_type": "code",
   "execution_count": null,
   "metadata": {},
   "outputs": [],
   "source": []
  }
 ],
 "metadata": {
  "kernelspec": {
   "display_name": "Python 3",
   "language": "python",
   "name": "python3"
  },
  "language_info": {
   "codemirror_mode": {
    "name": "ipython",
    "version": 3
   },
   "file_extension": ".py",
   "mimetype": "text/x-python",
   "name": "python",
   "nbconvert_exporter": "python",
   "pygments_lexer": "ipython3",
   "version": "3.7.3"
  }
 },
 "nbformat": 4,
 "nbformat_minor": 2
}
