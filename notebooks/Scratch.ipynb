{
 "cells": [
  {
   "cell_type": "code",
   "execution_count": 1,
   "metadata": {},
   "outputs": [],
   "source": [
    "from gurobipy import *\n",
    "import numpy as np"
   ]
  },
  {
   "cell_type": "code",
   "execution_count": 14,
   "metadata": {},
   "outputs": [],
   "source": [
    "horizon = [i for i in range(0,10)]"
   ]
  },
  {
   "cell_type": "code",
   "execution_count": 5,
   "metadata": {},
   "outputs": [
    {
     "name": "stdout",
     "output_type": "stream",
     "text": [
      "Academic license - for non-commercial use only\n"
     ]
    }
   ],
   "source": [
    "model = Model('test')"
   ]
  },
  {
   "cell_type": "code",
   "execution_count": 15,
   "metadata": {},
   "outputs": [],
   "source": [
    "r = model.addVars(horizon, ub=1.0, name=\"valve\")"
   ]
  },
  {
   "cell_type": "code",
   "execution_count": 17,
   "metadata": {},
   "outputs": [
    {
     "data": {
      "text/plain": [
       "{0: <gurobi.Var *Awaiting Model Update*>,\n",
       " 1: <gurobi.Var *Awaiting Model Update*>,\n",
       " 2: <gurobi.Var *Awaiting Model Update*>,\n",
       " 3: <gurobi.Var *Awaiting Model Update*>,\n",
       " 4: <gurobi.Var *Awaiting Model Update*>,\n",
       " 5: <gurobi.Var *Awaiting Model Update*>,\n",
       " 6: <gurobi.Var *Awaiting Model Update*>,\n",
       " 7: <gurobi.Var *Awaiting Model Update*>,\n",
       " 8: <gurobi.Var *Awaiting Model Update*>,\n",
       " 9: <gurobi.Var *Awaiting Model Update*>}"
      ]
     },
     "execution_count": 17,
     "metadata": {},
     "output_type": "execute_result"
    }
   ],
   "source": [
    "r"
   ]
  },
  {
   "cell_type": "code",
   "execution_count": 18,
   "metadata": {},
   "outputs": [],
   "source": [
    "years = tuplelist(range(2+1))\n",
    "skill_levels = [0, 1, 2]  # 0 = Unskilled, 1 = Semiskilled, 2 = Skilled\n",
    "Unskilled = 0\n",
    "Semiskilled = 1\n",
    "Skilled = 2\n",
    "\n",
    "CurrentStrength = [2000, 1500, 1000]\n",
    "Requirement = [[1000, 1400, 1000],\n",
    "               [500, 2000, 1500],\n",
    "               [0, 2500, 2000]]\n",
    "LeaveFirstYear = [0.25, 0.20, 0.10]\n",
    "LeaveEachYear = [0.10, 0.05, 0.05]\n",
    "ContinueFirstYear = [1 - a for a in LeaveFirstYear]\n",
    "ContinueEachYear = [1 - a for a in LeaveEachYear]\n",
    "LeaveDownGraded = 0.50\n",
    "ContinueDownGraded = 1 - LeaveDownGraded\n",
    "MaxRecruit = [500, 800, 500]\n",
    "MaxRetrainUnskilled = 200\n",
    "MaxOverManning = 150\n",
    "MaxShortTimeWorking = 50\n",
    "RetrainSemiSkilled = 0.25\n",
    "ShortTimeUsage = 0.50\n",
    "\n",
    "RetrainCost = [400, 500, 0]\n",
    "RedundantCost = [200, 500, 500]\n",
    "ShortTimeCost = [500, 400, 400]\n",
    "OverManningCost = [1500, 2000, 3000]"
   ]
  },
  {
   "cell_type": "code",
   "execution_count": 20,
   "metadata": {},
   "outputs": [],
   "source": [
    "MaxRecruit2 = {(level, year) : MaxRecruit[level] for level in skill_levels for year in years}\n",
    "model = Model('Manpower planning')\n",
    "\n",
    "Recruit = model.addVars(skill_levels, years, ub= MaxRecruit2, name=\"Recruit\")\n",
    "ShortTime = model.addVars(skill_levels, years, ub=MaxShortTimeWorking,\n",
    "                          name=\"ShortTime\")\n",
    "LaborForce = model.addVars(skill_levels, years, name=\"LaborForce\")\n",
    "Redundant = model.addVars(skill_levels, years, name=\"Redundant\")\n",
    "OverManned = model.addVars(skill_levels, years, name=\"OverManned\")\n",
    "Retrain = model.addVars(skill_levels, skill_levels, years, name=\"Retrain\")"
   ]
  },
  {
   "cell_type": "code",
   "execution_count": 37,
   "metadata": {},
   "outputs": [],
   "source": [
    "x = np.linspace(0, 500, 1000)\n",
    "y = np.sqrt(x)"
   ]
  },
  {
   "cell_type": "code",
   "execution_count": 38,
   "metadata": {},
   "outputs": [],
   "source": [
    "import matplotlib.pyplot as plt"
   ]
  },
  {
   "cell_type": "code",
   "execution_count": 39,
   "metadata": {},
   "outputs": [
    {
     "data": {
      "text/plain": [
       "[<matplotlib.lines.Line2D at 0x119a2c1d0>]"
      ]
     },
     "execution_count": 39,
     "metadata": {},
     "output_type": "execute_result"
    },
    {
     "data": {
      "image/png": "[encoded data removed]",
      "text/plain": [
       "<Figure size 432x288 with 1 Axes>"
      ]
     },
     "metadata": {
      "needs_background": "light"
     },
     "output_type": "display_data"
    }
   ],
   "source": [
    "plt.plot(x,y)"
   ]
  },
  {
   "cell_type": "code",
   "execution_count": 40,
   "metadata": {},
   "outputs": [],
   "source": [
    "p = np.polyfit(x,y,2)"
   ]
  },
  {
   "cell_type": "code",
   "execution_count": 41,
   "metadata": {},
   "outputs": [],
   "source": [
    "y1 = x**2 *p[0] + x*p[1] +p[2]"
   ]
  },
  {
   "cell_type": "code",
   "execution_count": 42,
   "metadata": {},
   "outputs": [
    {
     "data": {
      "text/plain": [
       "[<matplotlib.lines.Line2D at 0x11951a8d0>]"
      ]
     },
     "execution_count": 42,
     "metadata": {},
     "output_type": "execute_result"
    },
    {
     "data": {
      "image/png": "[encoded data removed]",
      "text/plain": [
       "<Figure size 432x288 with 1 Axes>"
      ]
     },
     "metadata": {
      "needs_background": "light"
     },
     "output_type": "display_data"
    }
   ],
   "source": [
    "plt.plot(x,y)\n",
    "plt.plot(x,y1)"
   ]
  },
  {
   "cell_type": "code",
   "execution_count": 43,
   "metadata": {},
   "outputs": [
    {
     "data": {
      "text/plain": [
       "array([-5.13182053e-05,  6.14647148e-02,  3.81572575e+00])"
      ]
     },
     "execution_count": 43,
     "metadata": {},
     "output_type": "execute_result"
    }
   ],
   "source": [
    "p"
   ]
  },
  {
   "cell_type": "code",
   "execution_count": 6,
   "metadata": {},
   "outputs": [
    {
     "name": "stdout",
     "output_type": "stream",
     "text": [
      "Optimize a model with 40 rows, 40 columns and 116 nonzeros\n",
      "Coefficient statistics:\n",
      "  Matrix range     [3e-02, 1e+00]\n",
      "  Objective range  [1e+00, 1e+00]\n",
      "  Bounds range     [1e+01, 1e+02]\n",
      "  RHS range        [2e+00, 1e+02]\n",
      "Presolve removed 26 rows and 24 columns\n",
      "Presolve time: 0.01s\n",
      "Presolved: 14 rows, 16 columns, 109 nonzeros\n",
      "\n",
      "Iteration    Objective       Primal Inf.    Dual Inf.      Time\n",
      "       0    7.3156466e+01   1.000000e+01   0.000000e+00      0s\n",
      "      14    1.0196863e+03   0.000000e+00   0.000000e+00      0s\n",
      "\n",
      "Solved in 14 iterations and 0.02 seconds\n",
      "Optimal objective  1.019686300e+03\n",
      "Optimize a model with 40 rows, 40 columns and 116 nonzeros\n",
      "Coefficient statistics:\n",
      "  Matrix range     [3e-02, 1e+00]\n",
      "  Objective range  [1e+00, 1e+00]\n",
      "  Bounds range     [1e+01, 1e+02]\n",
      "  RHS range        [2e+00, 1e+02]\n",
      "Presolve removed 26 rows and 24 columns\n",
      "Presolve time: 0.01s\n",
      "Presolved: 14 rows, 16 columns, 109 nonzeros\n",
      "\n",
      "Iteration    Objective       Primal Inf.    Dual Inf.      Time\n",
      "       0    7.3156466e+01   1.000000e+01   0.000000e+00      0s\n",
      "      14    1.0196863e+03   0.000000e+00   0.000000e+00      0s\n",
      "\n",
      "Solved in 14 iterations and 0.01 seconds\n",
      "Optimal objective  1.019686300e+03\n"
     ]
    }
   ],
   "source": [
    "from gurobipy import *\n",
    "import numpy  as np\n",
    "import re\n",
    "import matplotlib.pyplot as plt\n",
    "import seaborn as sns\n",
    "sns.set_style(\"white\")\n",
    "\n",
    "# Common Containers and variables \n",
    "volumns  = {}\n",
    "outflows = {}\n",
    "horizon  = [time for time in range(0, 20)]  # Time steps\n",
    "\n",
    "# Pond1 -> Generate outflows\n",
    "## Variables \n",
    "m_p1       = Model(\"Pond1\")\n",
    "volume_p1  = m_p1.addVars(horizon, lb=0, ub=100, vtype=GRB.CONTINUOUS, name=\"Volume\")\n",
    "outflow_p1 = m_p1.addVars(horizon, lb=0, ub=10 , vtype=GRB.CONTINUOUS, name=\"Outflows\")\n",
    "\n",
    "# Constarints \n",
    "m_p1.addConstr(volume_p1[0] == 90, \"Inital Volume\")\n",
    "m_p1.addConstr(outflow_p1.sum() <= 100, \"Total Mass Movement\")\n",
    "m_p1.addConstrs((volume_p1[time] == volume_p1[time-1] - outflow_p1[time-1] for time in horizon[1:]), name=\"Mass balance\")\n",
    "m_p1.addConstrs(outflow_p1[time] <= (volume_p1[time-1]*6.14647148e-02 + 3.81)*0.447 for time in horizon[1:])\n",
    "\n",
    "# Objective \n",
    "m_p1.setObjective(volume_p1.sum(), GRB.MINIMIZE)\n",
    "m_p1.optimize()\n",
    "\n",
    "\n",
    "# Pond2 -> Generate Outflows \n",
    "## Variables \n",
    "m_p2       = Model(\"Pond2\")\n",
    "volume_p2  = m_p2.addVars(horizon, lb=0, ub=100, vtype=GRB.CONTINUOUS, name=\"Volume\")\n",
    "outflow_p2 = m_p2.addVars(horizon, lb=0, ub=10 , vtype=GRB.CONTINUOUS, name=\"Outflows\")\n",
    "\n",
    "# Constarints \n",
    "m_p2.addConstr(volume_p2[0] == 90, \"Inital Volume\")\n",
    "m_p2.addConstr(outflow_p2.sum() <= 100, \"Total Mass Movement\")\n",
    "m_p2.addConstrs((volume_p2[time] == volume_p2[time-1] - outflow_p2[time-1] for time in horizon[1:]), name=\"Mass balance\")\n",
    "m_p2.addConstrs(outflow_p2[time] <= (volume_p2[time-1]*6.14647148e-02 + 3.81)*0.447 for time in horizon[1:])\n",
    "\n",
    "# Objective \n",
    "m_p2.setObjective(volume_p2.sum(), GRB.MINIMIZE)\n",
    "m_p2.optimize()\n",
    "\n",
    "\n",
    "# Pond3 -> Take in the outflows and plan how you want to release them.\n",
    "## Generate the outflows from the above into the downstream \n",
    "inflow_p1 = [outflow_p1[i].x for i in outflow_p1.keys()]\n",
    "inflow_p2 = [outflow_p2[i].x for i in outflow_p2.keys()]\n",
    "inflows = np.zeros(20)\n",
    "inflows = inflows[10:] + np.asarray(inflow_p1[:10]) + np.asarray(inflow_p2[:10]) \n"
   ]
  },
  {
   "cell_type": "code",
   "execution_count": 7,
   "metadata": {},
   "outputs": [
    {
     "data": {
      "text/plain": [
       "[<matplotlib.lines.Line2D at 0x11dc33518>]"
      ]
     },
     "execution_count": 7,
     "metadata": {},
     "output_type": "execute_result"
    },
    {
     "data": {
      "image/png": "[encoded data removed]",
      "text/plain": [
       "<Figure size 432x288 with 1 Axes>"
      ]
     },
     "metadata": {},
     "output_type": "display_data"
    }
   ],
   "source": [
    "plt.plot(inflows)"
   ]
  },
  {
   "cell_type": "code",
   "execution_count": 9,
   "metadata": {},
   "outputs": [],
   "source": [
    "inflow_p1 = [outflow_p1[i].x for i in outflow_p1.keys()]\n",
    "inflow_p2 = [outflow_p2[i].x for i in outflow_p2.keys()]\n",
    "inflows = np.zeros(20)"
   ]
  },
  {
   "cell_type": "code",
   "execution_count": 17,
   "metadata": {},
   "outputs": [],
   "source": [
    "inflows[10:] = inflows[10:] + inflow_p1[:10] + inflow_p2[:10]"
   ]
  },
  {
   "cell_type": "code",
   "execution_count": 18,
   "metadata": {},
   "outputs": [
    {
     "data": {
      "text/plain": [
       "[<matplotlib.lines.Line2D at 0x11d68a4e0>]"
      ]
     },
     "execution_count": 18,
     "metadata": {},
     "output_type": "execute_result"
    },
    {
     "data": {
      "image/png": "[encoded data removed]",
      "text/plain": [
       "<Figure size 432x288 with 1 Axes>"
      ]
     },
     "metadata": {},
     "output_type": "display_data"
    }
   ],
   "source": [
    "plt.plot(inflows)"
   ]
  },
  {
   "cell_type": "code",
   "execution_count": null,
   "metadata": {},
   "outputs": [],
   "source": []
  }
 ],
 "metadata": {
  "kernelspec": {
   "display_name": "Python 3",
   "language": "python",
   "name": "python3"
  },
  "language_info": {
   "codemirror_mode": {
    "name": "ipython",
    "version": 3
   },
   "file_extension": ".py",
   "mimetype": "text/x-python",
   "name": "python",
   "nbconvert_exporter": "python",
   "pygments_lexer": "ipython3",
   "version": "3.7.3"
  }
 },
 "nbformat": 4,
 "nbformat_minor": 2
}
