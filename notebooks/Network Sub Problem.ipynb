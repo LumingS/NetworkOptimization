{
 "cells": [
  {
   "cell_type": "code",
   "execution_count": 1,
   "metadata": {},
   "outputs": [],
   "source": [
    "from gurobipy import *\n",
    "import numpy  as np\n",
    "import re\n",
    "import matplotlib.pyplot as plt\n",
    "import seaborn as sns\n",
    "sns.set_style(\"white\")"
   ]
  },
  {
   "cell_type": "code",
   "execution_count": 2,
   "metadata": {},
   "outputs": [
    {
     "name": "stdout",
     "output_type": "stream",
     "text": [
      "Academic license - for non-commercial use only\n",
      "Optimize a model with 40 rows, 40 columns and 116 nonzeros\n",
      "Coefficient statistics:\n",
      "  Matrix range     [3e-02, 1e+00]\n",
      "  Objective range  [1e+00, 1e+00]\n",
      "  Bounds range     [1e+01, 1e+02]\n",
      "  RHS range        [2e+00, 1e+02]\n",
      "Presolve removed 26 rows and 24 columns\n",
      "Presolve time: 0.01s\n",
      "Presolved: 14 rows, 16 columns, 109 nonzeros\n",
      "\n",
      "Iteration    Objective       Primal Inf.    Dual Inf.      Time\n",
      "       0    7.3156466e+01   1.000000e+01   0.000000e+00      0s\n",
      "      14    1.0196863e+03   0.000000e+00   0.000000e+00      0s\n",
      "\n",
      "Solved in 14 iterations and 0.03 seconds\n",
      "Optimal objective  1.019686300e+03\n"
     ]
    }
   ],
   "source": [
    "m = Model(\"Subproblem1\")\n",
    "# Create Variables \n",
    "horizon      = [time for time in range(0, 20)]  # Time steps\n",
    "upper_bound  = 10  # Uppper threshold for water \n",
    "\n",
    "volume = m.addVars(horizon,\n",
    "                   lb=0,\n",
    "                   ub=100,\n",
    "                   vtype=GRB.CONTINUOUS,\n",
    "                   name=\"Volume\")\n",
    "\n",
    "outflows = m.addVars(horizon,\n",
    "                   lb=0,\n",
    "                   ub=10,\n",
    "                   vtype=GRB.CONTINUOUS,\n",
    "                   name=\"Outflows\")\n",
    "\n",
    "m.addConstr(volume[0] == 90, \"Inital Volume\")\n",
    "m.addConstrs((volume[time] == volume[time-1] - outflows[time-1] for time in horizon[1:]), name=\"Mass balance\")\n",
    "m.addConstrs(outflows[time] <= (volume[time-1]*6.14647148e-02 + 3.81)*0.447 for time in horizon[1:])\n",
    "m.addConstr(outflows.sum() <= 100, \"Total Mass Movement\")\n",
    "\n",
    "m.setObjective(volume.sum(), GRB.MINIMIZE)\n",
    "m.optimize()\n",
    "\n"
   ]
  },
  {
   "cell_type": "code",
   "execution_count": 3,
   "metadata": {},
   "outputs": [
    {
     "name": "stdout",
     "output_type": "stream",
     "text": [
      "Optimize a model with 39 rows, 40 columns and 96 nonzeros\n",
      "Coefficient statistics:\n",
      "  Matrix range     [3e-02, 1e+00]\n",
      "  Objective range  [1e+00, 1e+00]\n",
      "  Bounds range     [1e+01, 1e+02]\n",
      "  RHS range        [2e+00, 9e+01]\n",
      "Presolve removed 25 rows and 24 columns\n",
      "Presolve time: 0.01s\n",
      "Presolved: 14 rows, 16 columns, 109 nonzeros\n",
      "\n",
      "Iteration    Objective       Primal Inf.    Dual Inf.      Time\n",
      "       0    7.3156466e+01   1.000000e+01   0.000000e+00      0s\n",
      "      14    1.0196863e+03   0.000000e+00   0.000000e+00      0s\n",
      "\n",
      "Solved in 14 iterations and 0.02 seconds\n",
      "Optimal objective  1.019686300e+03\n"
     ]
    }
   ],
   "source": [
    "m = Model(\"Subproblem2\")\n",
    "\n",
    "# Create Variables \n",
    "horizon      = [time for time in range(0, 20)]  # Time steps\n",
    "upper_bound  = 10  # Uppper threshold for water \n",
    "\n",
    "volume = m.addVars(horizon,\n",
    "                   lb=0,\n",
    "                   ub=100,\n",
    "                   vtype=GRB.CONTINUOUS,\n",
    "                   name=\"Volume\")\n",
    "\n",
    "outflows = m.addVars(horizon,\n",
    "                   lb=0,\n",
    "                   ub=10,\n",
    "                   vtype=GRB.CONTINUOUS,\n",
    "                   name=\"Outflows\")\n",
    "\n",
    "m.addConstr(volume[0] == 90, \"Inital Volume\")\n",
    "m.addConstrs((volume[time] == volume[time-1] - outflows[time-1] for time in horizon[1:]), name=\"Mass balance\")\n",
    "m.addConstrs(outflows[time] <= (volume[time-1]*6.14647148e-02 + 3.81)*0.447 for time in horizon[1:])\n",
    "\n",
    "m.setObjective(volume.sum(), GRB.MINIMIZE)\n",
    "m.optimize()"
   ]
  },
  {
   "cell_type": "code",
   "execution_count": 4,
   "metadata": {},
   "outputs": [
    {
     "name": "stdout",
     "output_type": "stream",
     "text": [
      "Optimize a model with 39 rows, 40 columns and 96 nonzeros\n",
      "Coefficient statistics:\n",
      "  Matrix range     [3e-02, 1e+00]\n",
      "  Objective range  [1e+00, 1e+00]\n",
      "  Bounds range     [1e+01, 1e+02]\n",
      "  RHS range        [2e+00, 9e+01]\n",
      "Presolve removed 25 rows and 24 columns\n",
      "Presolve time: 0.02s\n",
      "Presolved: 14 rows, 16 columns, 109 nonzeros\n",
      "\n",
      "Iteration    Objective       Primal Inf.    Dual Inf.      Time\n",
      "       0    7.3156466e+01   1.000000e+01   0.000000e+00      0s\n",
      "      14    1.0196863e+03   0.000000e+00   0.000000e+00      0s\n",
      "\n",
      "Solved in 14 iterations and 0.02 seconds\n",
      "Optimal objective  1.019686300e+03\n"
     ]
    }
   ],
   "source": [
    "m = Model(\"Subproblem3\")\n",
    "\n",
    "# Create Variables \n",
    "horizon      = [time for time in range(0, 20)]  # Time steps\n",
    "upper_bound  = 10  # Uppper threshold for water \n",
    "\n",
    "volume = m.addVars(horizon,\n",
    "                   lb=0,\n",
    "                   ub=100,\n",
    "                   vtype=GRB.CONTINUOUS,\n",
    "                   name=\"Volume\")\n",
    "\n",
    "outflows = m.addVars(horizon,\n",
    "                   lb=0,\n",
    "                   ub=10,\n",
    "                   vtype=GRB.CONTINUOUS,\n",
    "                   name=\"Outflows\")\n",
    "\n",
    "m.addConstr(volume[0] == 90, \"Inital Volume\")\n",
    "m.addConstrs((volume[time] == volume[time-1] - outflows[time-1] for time in horizon[1:]), name=\"Mass balance\")\n",
    "m.addConstrs(outflows[time] <= (volume[time-1]*6.14647148e-02 + 3.81)*0.447 for time in horizon[1:])\n",
    "\n",
    "m.setObjective(volume.sum(), GRB.MINIMIZE)\n",
    "m.optimize()"
   ]
  },
  {
   "cell_type": "code",
   "execution_count": 6,
   "metadata": {},
   "outputs": [],
   "source": [
    "flows1 = [outflows[i].x for i in outflows.keys()]"
   ]
  },
  {
   "cell_type": "code",
   "execution_count": 7,
   "metadata": {},
   "outputs": [
    {
     "data": {
      "text/plain": [
       "[10.0,\n",
       " 4.175795476404001,\n",
       " 3.901048201248,\n",
       " 3.786319358372925,\n",
       " 3.6791391220184146,\n",
       " 3.575111029360077,\n",
       " 3.4740276844906375,\n",
       " 3.375802483120953,\n",
       " 3.280354519107922,\n",
       " 3.187605265737688,\n",
       " 3.0974784191706304,\n",
       " 3.009899833067196,\n",
       " 2.9247974575150315,\n",
       " 2.84210127975226,\n",
       " 2.761743266568715,\n",
       " 2.6836573083357838,\n",
       " 2.6077791646187656,\n",
       " 2.534046411326991,\n",
       " 2.4623983893582317,\n",
       " 0.0]"
      ]
     },
     "execution_count": 7,
     "metadata": {},
     "output_type": "execute_result"
    }
   ],
   "source": [
    "flows1"
   ]
  },
  {
   "cell_type": "code",
   "execution_count": null,
   "metadata": {},
   "outputs": [],
   "source": []
  }
 ],
 "metadata": {
  "kernelspec": {
   "display_name": "Python 3",
   "language": "python",
   "name": "python3"
  },
  "language_info": {
   "codemirror_mode": {
    "name": "ipython",
    "version": 3
   },
   "file_extension": ".py",
   "mimetype": "text/x-python",
   "name": "python",
   "nbconvert_exporter": "python",
   "pygments_lexer": "ipython3",
   "version": "3.7.3"
  }
 },
 "nbformat": 4,
 "nbformat_minor": 2
}
